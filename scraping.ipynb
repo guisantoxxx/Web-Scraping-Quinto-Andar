{
 "cells": [
  {
   "cell_type": "code",
   "execution_count": 171,
   "metadata": {},
   "outputs": [],
   "source": [
    "from selenium import webdriver\n",
    "from selenium.webdriver.chrome.service import Service\n",
    "from selenium.webdriver.common.by import By\n",
    "from webdriver_manager.chrome import ChromeDriverManager\n",
    "from selenium.webdriver.chrome.options import Options\n",
    "import time\n"
   ]
  },
  {
   "cell_type": "code",
   "execution_count": 172,
   "metadata": {},
   "outputs": [],
   "source": [
    "chrome_options = Options()\n",
    "chrome_options.add_argument(\"--headless\")  # Executa sem abrir o navegador\n",
    "chrome_options.add_argument(\"--disable-gpu\")  # Evita alguns bugs gráficos no headless\n",
    "chrome_options.add_argument(\"--window-size=1920x1080\")  # Garante renderização correta\n",
    "\n",
    "# Inicializa o WebDriver do Chrome\n",
    "service = Service(ChromeDriverManager().install())\n",
    "driver = webdriver.Chrome(service=service, options=chrome_options)\n"
   ]
  },
  {
   "cell_type": "code",
   "execution_count": 173,
   "metadata": {},
   "outputs": [],
   "source": [
    "# trocar o link para trocar cidades, funiona para qualquer cidade\n",
    "# ideia: criar uma lista com links de diversas cidades e rodar o programa todo\n",
    "url = \"https://www.quintoandar.com.br/comprar/imovel/niteroi-rj-brasil\"\n",
    "driver.get(url)\n",
    "main_window = driver.current_window_handle\n",
    "\n",
    "# Aguarda alguns segundos para carregar o JavaScript (ajuste conforme necessário)\n",
    "time.sleep(2)"
   ]
  },
  {
   "cell_type": "code",
   "execution_count": 174,
   "metadata": {},
   "outputs": [],
   "source": [
    "from selenium.webdriver.common.by import By\n",
    "from selenium.webdriver.support.ui import WebDriverWait\n",
    "from selenium.webdriver.support import expected_conditions as EC\n",
    "\n",
    "# Aumentar o range para aumentar o numero de imoveis\n",
    "for i in range(1):\n",
    "    see_more_button = WebDriverWait(driver, 10).until(\n",
    "        EC.element_to_be_clickable((By.ID, \"see-more\"))\n",
    "    )\n",
    "\n",
    "    # Clica no botão\n",
    "    see_more_button.click()\n",
    "\n",
    "\n"
   ]
  },
  {
   "cell_type": "code",
   "execution_count": 175,
   "metadata": {},
   "outputs": [
    {
     "name": "stdout",
     "output_type": "stream",
     "text": [
      "Total de imóveis encontrados: 12\n"
     ]
    }
   ],
   "source": [
    "# recupera os cards dos imoveis\n",
    "cards = driver.find_elements(By.CLASS_NAME, \"StyledLink_styledLink__P_6FN\")\n",
    "\n",
    "print(f\"Total de imóveis encontrados: {len(cards)}\")"
   ]
  },
  {
   "cell_type": "code",
   "execution_count": 176,
   "metadata": {},
   "outputs": [],
   "source": [
    "from bs4 import BeautifulSoup\n",
    "import pandas as pd\n",
    "import numpy as np\n",
    "import requests"
   ]
  },
  {
   "cell_type": "markdown",
   "metadata": {},
   "source": [
    "#### Extração dos dados"
   ]
  },
  {
   "cell_type": "code",
   "execution_count": 177,
   "metadata": {},
   "outputs": [],
   "source": [
    "precos = []\n",
    "num_quartos = []\n",
    "num_banheiros = []\n",
    "num_vagas = []\n",
    "m_quadrados = []\n",
    "tempos_publi = []\n",
    "itens_disponiveis = []\n",
    "itens_indisponiveis = []\n",
    "tipos_imoveis = []\n",
    "cidades = []\n",
    "regioes = []\n"
   ]
  },
  {
   "cell_type": "code",
   "execution_count": 178,
   "metadata": {},
   "outputs": [],
   "source": [
    "for i,card in enumerate(cards):\n",
    "    href = card.get_attribute(\"href\")\n",
    "    \n",
    "    html = requests.get(href).content\n",
    "    soup = BeautifulSoup(html, 'html.parser')\n",
    "    \n",
    "    preco = soup.find('div', {'class': 'PriceTableSale_price__dexUu'})\n",
    "    infos = soup.find_all('div', {'class': 'MuiBox-root mui-15au7ed'})\n",
    "    spans = soup.find_all('span')\n",
    "    tipo_imovel = soup.find_all('h1')\n",
    "\n",
    "    \n",
    "    # a lista de disponiveis fica no indice 0, e de indisponiveis no indice 1\n",
    "    itens = soup.find_all('div', {'class': 'MuiGrid-root MuiGrid-item MuiGrid-grid-xs-6 mui-1s50f5r'})\n",
    "    \n",
    "    # tratamento, pois nem todos imoveis possuem itens disponiveis\n",
    "    # cria vetores aux para itens disponiveis e indisponiveis de cada umovel\n",
    "    disponivel_aux = []\n",
    "    indisponivel_aux = []\n",
    "    \n",
    "    try:\n",
    "        itens_disponivels_pagina = itens[0].find_all('div', {'class': 'AmenitiesList_itemsWrapper__PLY3c'})\n",
    "        \n",
    "        for item in itens_disponivels_pagina:\n",
    "            try:\n",
    "                disponivel_aux.append(item.text)\n",
    "            except IndexError:\n",
    "                    disponivel_aux.append(np.nan)\n",
    "        itens_disponiveis.append(disponivel_aux)\n",
    "    except IndexError:\n",
    "        itens_disponiveis.append(np.nan)\n",
    "        \n",
    "    \n",
    "    \n",
    "    try:\n",
    "        itens_indisponivels_pagina = itens[1].find_all('div', {'class': 'AmenitiesList_itemsWrapper__PLY3c'})\n",
    "        \n",
    "        for item in itens_indisponivels_pagina:\n",
    "            try:\n",
    "                indisponivel_aux.append(item.text)\n",
    "            except IndexError:\n",
    "                indisponivel_aux.append(np.nan)\n",
    "        itens_indisponiveis.append(indisponivel_aux)\n",
    "    except:\n",
    "        itens_indisponiveis.append(np.nan)\n",
    "    \n",
    "    \n",
    "    \n",
    "\n",
    "            \n",
    "    \n",
    "    # o tipo do imovelsempre éo primeiro h1, então é valido fazer\n",
    "    tipos_imoveis.append(tipo_imovel[0].text)\n",
    "    \n",
    "    # o período de publicação é sempre um span, e sempre esta no índice 106, então é possível fazer a seguinte operação\n",
    "    tempos_publi.append(spans[106].text)\n",
    "    \n",
    "    # cidade e regiao sao sempre spans, na posição 100 e 101, entao é valido\n",
    "    cidades.append(spans[100].text)\n",
    "    regioes.append(spans[101].text)\n",
    "    \n",
    "    precos.append(preco.text)\n",
    "    \n",
    "    try:\n",
    "        num_quartos.append(infos[0].text)\n",
    "        m_quadrados.append(infos[1].text)\n",
    "        num_vagas.append(infos[3].text)\n",
    "        num_banheiros.append(infos[4].text)\n",
    "    except IndexError:\n",
    "        num_quartos.append(np.nan)\n",
    "        m_quadrados.append(np.nan)\n",
    "        num_vagas.append(np.nan)\n",
    "        num_banheiros.append(np.nan)\n",
    "    \n",
    "    "
   ]
  },
  {
   "cell_type": "markdown",
   "metadata": {},
   "source": [
    "#### Processamento dos dados"
   ]
  },
  {
   "cell_type": "code",
   "execution_count": 179,
   "metadata": {},
   "outputs": [],
   "source": [
    "for i, tipo_imovel in enumerate(tipos_imoveis):\n",
    "    tipos_imoveis[i] = tipo_imovel.split()[0] "
   ]
  },
  {
   "cell_type": "code",
   "execution_count": 180,
   "metadata": {},
   "outputs": [],
   "source": [
    "for i, quarto in enumerate(num_quartos):\n",
    "    num_quartos[i] = quarto.split()[0] "
   ]
  },
  {
   "cell_type": "code",
   "execution_count": 181,
   "metadata": {},
   "outputs": [],
   "source": [
    "for i, tamanho in enumerate(m_quadrados):\n",
    "    if isinstance(tamanho, str) and tamanho.strip():  \n",
    "        m_quadrados[i] = tamanho.split()[0]\n",
    "    else:\n",
    "        m_quadrados[i] = str(tamanho).split()[0] "
   ]
  },
  {
   "cell_type": "code",
   "execution_count": 182,
   "metadata": {},
   "outputs": [],
   "source": [
    "for i, vaga in enumerate(num_vagas):\n",
    "    num_vagas[i] = vaga.split()[0]\n",
    "    \n",
    "    if num_vagas[i] == '-':\n",
    "        num_vagas[i] = 0"
   ]
  },
  {
   "cell_type": "code",
   "execution_count": 183,
   "metadata": {},
   "outputs": [],
   "source": [
    "for i, banheiro in enumerate(num_banheiros):\n",
    "    num_banheiros[i] = banheiro.split()[0]"
   ]
  },
  {
   "cell_type": "code",
   "execution_count": 184,
   "metadata": {},
   "outputs": [],
   "source": [
    "for i, preco in enumerate(precos):\n",
    "    partes = preco.split('\\xa0', 1)\n",
    "    precos[i] = partes[1]"
   ]
  },
  {
   "cell_type": "code",
   "execution_count": 185,
   "metadata": {},
   "outputs": [],
   "source": [
    "# função que converte os  tempos de publicação em datas\n",
    "import dateparser\n",
    "from datetime import datetime\n",
    "\n",
    "def converter_para_data(data_string):\n",
    "    # Remover o prefixo 'Publicado há' para ficar com apenas a parte de tempo relativo\n",
    "    data_string = data_string.replace('Publicado há', '').strip()\n",
    "\n",
    "    # Usando o dateparser para analisar a string com a data relativa\n",
    "    data_convertida = dateparser.parse(data_string, settings={'PREFER_DATES_FROM': 'past'})\n",
    "\n",
    "    # Verificando se a conversão foi bem-sucedida\n",
    "    if data_convertida:\n",
    "        # Retorna a data no formato \"dia/mês/ano\"\n",
    "        return data_convertida.strftime('%d/%m/%Y')\n",
    "    else:\n",
    "        # Caso não consiga converter, retorna uma mensagem de erro\n",
    "        return \"Data inválida\""
   ]
  },
  {
   "cell_type": "code",
   "execution_count": 186,
   "metadata": {},
   "outputs": [],
   "source": [
    "datas_completas = [converter_para_data(data) for data in tempos_publi]"
   ]
  },
  {
   "cell_type": "code",
   "execution_count": 187,
   "metadata": {},
   "outputs": [],
   "source": [
    "import datetime\n",
    "import calendar\n",
    "\n",
    "def extrair_informacoes(data_string):\n",
    "    # Converte a string para o formato datetime\n",
    "    data_convertida = datetime.datetime.strptime(data_string, '%d/%m/%Y')\n",
    "    \n",
    "    # Extraindo as informações solicitadas\n",
    "    dia = data_convertida.day\n",
    "    mes = data_convertida.month\n",
    "    ano = data_convertida.year\n",
    "    dia_da_semana = data_convertida.weekday()  # Retorna 0 para segunda-feira até 6 para domingo\n",
    "    dia_da_semana_extenso = [\n",
    "        'Segunda-feira', 'Terça-feira', 'Quarta-feira', 'Quinta-feira', \n",
    "        'Sexta-feira', 'Sábado', 'Domingo'\n",
    "    ][dia_da_semana]  # Nome do dia da semana em português\n",
    "    semana_ano = data_convertida.isocalendar()[1]  # Número da semana do ano\n",
    "    quarter = (mes - 1) // 3 + 1  # Determina o trimestre (Q1, Q2, Q3 ou Q4)\n",
    "\n",
    "    # Retorna as informações como um dicionário\n",
    "    return {\n",
    "        'Dia': dia,\n",
    "        'Mes': mes,\n",
    "        'Ano': ano,\n",
    "        'Dia da semana (número)': dia_da_semana,\n",
    "        'Dia da semana (extenso)': dia_da_semana_extenso,\n",
    "        'Semana do ano': semana_ano,\n",
    "        'Quarter': f'Q{quarter}'\n",
    "    }"
   ]
  },
  {
   "cell_type": "code",
   "execution_count": 188,
   "metadata": {},
   "outputs": [],
   "source": [
    "dia = []\n",
    "mes = []\n",
    "ano = []\n",
    "dia_da_semana = []\n",
    "dia_da_semana_extenso = []\n",
    "semana_do_ano = []\n",
    "quarter = []"
   ]
  },
  {
   "cell_type": "code",
   "execution_count": 189,
   "metadata": {},
   "outputs": [],
   "source": [
    "for data in datas_completas:\n",
    "    informacoes = extrair_informacoes(data)\n",
    "    \n",
    "    # Acessando as chaves do dicionário para preencher as listas\n",
    "    dia.append(informacoes['Dia'])\n",
    "    mes.append(informacoes['Mes'])\n",
    "    ano.append(informacoes['Ano'])\n",
    "    dia_da_semana.append(informacoes['Dia da semana (número)'])\n",
    "    dia_da_semana_extenso.append(informacoes['Dia da semana (extenso)'])\n",
    "    semana_do_ano.append(informacoes['Semana do ano'])\n",
    "    quarter.append(f'{informacoes[\"Quarter\"]}')"
   ]
  },
  {
   "cell_type": "markdown",
   "metadata": {},
   "source": [
    "* Estado terá que ser inserido manualmente para cada cidade"
   ]
  },
  {
   "cell_type": "code",
   "execution_count": 190,
   "metadata": {},
   "outputs": [],
   "source": [
    "dados = pd.DataFrame({'Preco':precos})\n",
    "dados['Num Quartos'] = num_quartos\n",
    "dados['Num Banheiros'] =num_banheiros\n",
    "dados['Num Vagas'] = num_vagas\n",
    "dados['Tamanho'] = m_quadrados\n",
    "dados['Tipo'] = tipos_imoveis\n",
    "dados['Cidade'] = cidades\n",
    "dados['Regiao'] = regioes\n",
    "dados['Itens Disponivels'] = itens_disponiveis\n",
    "dados['Itens Indisponíveis'] = itens_indisponiveis\n",
    "dados['Data Completa'] = datas_completas\n",
    "dados['Dia'] = dia\n",
    "dados['Mes'] = mes\n",
    "dados['Ano'] = ano\n",
    "dados['Dia da Semana'] = dia_da_semana\n",
    "dados['Dia da Semana Extenso'] = dia_da_semana_extenso\n",
    "dados['Semana do Ano'] = semana_do_ano\n",
    "dados['Quarter'] = quarter"
   ]
  },
  {
   "cell_type": "code",
   "execution_count": 191,
   "metadata": {},
   "outputs": [],
   "source": [
    "dados.to_csv('quintoAndar.csv')"
   ]
  },
  {
   "cell_type": "code",
   "execution_count": 192,
   "metadata": {},
   "outputs": [],
   "source": [
    "driver.quit()"
   ]
  }
 ],
 "metadata": {
  "kernelspec": {
   "display_name": "base",
   "language": "python",
   "name": "python3"
  },
  "language_info": {
   "codemirror_mode": {
    "name": "ipython",
    "version": 3
   },
   "file_extension": ".py",
   "mimetype": "text/x-python",
   "name": "python",
   "nbconvert_exporter": "python",
   "pygments_lexer": "ipython3",
   "version": "3.9.12"
  }
 },
 "nbformat": 4,
 "nbformat_minor": 2
}
