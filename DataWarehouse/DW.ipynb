{
 "cells": [
  {
   "cell_type": "code",
   "execution_count": 2,
   "metadata": {},
   "outputs": [],
   "source": [
    "from sqlalchemy import create_engine\n",
    "from sqlalchemy.dialects.postgresql import ARRAY, TEXT\n",
    "from sqlalchemy import create_engine, text\n",
    "import pandas as pd\n",
    "import ast\n"
   ]
  },
  {
   "cell_type": "code",
   "execution_count": null,
   "metadata": {},
   "outputs": [],
   "source": [
    "USER = \"postgres\"\n",
    "PASSWORD = \"#####\"\n",
    "HOST = \"127.0.0.1\"\n",
    "PORT = \"5432\"\n",
    "DB_NAME = \"Trabalho-DW\"\n",
    "engine = create_engine(f\"postgresql+psycopg2://{USER}:{PASSWORD}@{HOST}:{PORT}/{DB_NAME}\")\n"
   ]
  },
  {
   "cell_type": "markdown",
   "metadata": {},
   "source": [
    "Converte Preco para float"
   ]
  },
  {
   "cell_type": "code",
   "execution_count": 12,
   "metadata": {},
   "outputs": [],
   "source": [
    "df = pd.read_csv(\"../quintoAndarTratado.csv\")\n",
    "\n",
    "# Passo 1: Remover os pontos que separam os milhares\n",
    "df['Preco'] = df['Preco'].str.replace('.', '', regex=False)\n",
    "\n",
    "# Passo 2: Substituir a vírgula por ponto para o separador decimal\n",
    "df['Preco'] = df['Preco'].str.replace(',', '.', regex=False)\n",
    "\n",
    "# Passo 3: Converter para float\n",
    "df['Preco'] = pd.to_numeric(df['Preco'], errors='coerce')"
   ]
  },
  {
   "cell_type": "markdown",
   "metadata": {},
   "source": [
    "#### Criando a tabela de dados gerais e inserindo os dados"
   ]
  },
  {
   "cell_type": "code",
   "execution_count": 9,
   "metadata": {},
   "outputs": [
    {
     "name": "stdout",
     "output_type": "stream",
     "text": [
      "Tabela 'dados_gerais' criada com sucesso!\n"
     ]
    }
   ],
   "source": [
    "# Comando SQL para criar a tabela\n",
    "create_table_query = \"\"\"\n",
    "CREATE TABLE IF NOT EXISTS dados_gerais (\n",
    "    id SERIAL PRIMARY KEY,\n",
    "    preco FLOAT,\n",
    "    num_quartos INT,\n",
    "    num_banheiros INT,\n",
    "    num_vagas INT,\n",
    "    tamanho FLOAT,\n",
    "    tipo TEXT,\n",
    "    cidade TEXT,\n",
    "    regiao TEXT,\n",
    "    itens_disponiveis TEXT[],\n",
    "    itens_indisponiveis TEXT[],\n",
    "    data_completa TEXT,\n",
    "    dia INT,\n",
    "    mes INT,\n",
    "    ano INT,\n",
    "    dia_da_semana INT,\n",
    "    dia_da_semana_extenso TEXT,\n",
    "    semana_do_ano INT,\n",
    "    quarter TEXT,\n",
    "    estado TEXT\n",
    ");\n",
    "\"\"\"\n",
    "\n",
    "# Executa o comando SQL para criar a tabela\n",
    "with engine.connect() as connection:\n",
    "    connection.execute(text(create_table_query))\n",
    "\n",
    "print(\"Tabela 'dados_gerais' criada com sucesso!\")"
   ]
  },
  {
   "cell_type": "code",
   "execution_count": 14,
   "metadata": {},
   "outputs": [
    {
     "data": {
      "text/plain": [
       "720"
      ]
     },
     "execution_count": 14,
     "metadata": {},
     "output_type": "execute_result"
    }
   ],
   "source": [
    "# Função para adaptar os itens para o postgres suportar\n",
    "def convert_string_to_list(x):\n",
    "    if isinstance(x, str):\n",
    "        x = x.strip()\n",
    "        if not x.startswith('['):\n",
    "            x = '[' + x + ']'\n",
    "        try:\n",
    "            lista = ast.literal_eval(x)\n",
    "            return [str(item).strip() for item in lista]\n",
    "        except Exception:\n",
    "            items = x.strip('[]').split(',')\n",
    "            return [item.strip(\" '\\\"\") for item in items if item.strip(\" '\\\"\")]\n",
    "    return []\n",
    "\n",
    "\n",
    "# Renomeia as colunas para igualar aos da tabela\n",
    "df.rename(columns={\n",
    "    \"Preco\": \"preco\",\n",
    "    \"Num Quartos\": \"num_quartos\",\n",
    "    \"Num Banheiros\": \"num_banheiros\",\n",
    "    \"Num Vagas\": \"num_vagas\",\n",
    "    \"Tamanho\": \"tamanho\",\n",
    "    \"Tipo\": \"tipo\",\n",
    "    \"Cidade\": \"cidade\",\n",
    "    \"Regiao\": \"regiao\",\n",
    "    \"Data Completa\": \"data_completa\",\n",
    "    \"Dia\": \"dia\",\n",
    "    \"Mes\": \"mes\",\n",
    "    \"Ano\": \"ano\",\n",
    "    \"Dia da Semana\": \"dia_da_semana\",\n",
    "    \"Dia da Semana Extenso\": \"dia_da_semana_extenso\",\n",
    "    \"Semana do Ano\": \"semana_do_ano\",\n",
    "    \"Quarter\": \"quarter\",\n",
    "    \"Estado\": \"estado\",\n",
    "    \"Itens Disponivels\": \"itens_disponiveis\", \n",
    "    \"Itens Indisponíveis\": \"itens_indisponiveis\"\n",
    "}, inplace=True)\n",
    "\n",
    "# Aplica a conversão nas colunas de itens\n",
    "df[\"itens_disponiveis\"] = df[\"itens_disponiveis\"].apply(convert_string_to_list)\n",
    "df[\"itens_indisponiveis\"] = df[\"itens_indisponiveis\"].apply(convert_string_to_list)\n",
    "\n",
    "# Mapeamento de tipos para as colunas que são arrays\n",
    "dtype_mapping = {\n",
    "    \"itens_disponiveis\": ARRAY(TEXT),\n",
    "    \"itens_indisponiveis\": ARRAY(TEXT)\n",
    "}\n",
    "\n",
    "# Insere os dados na tabela\n",
    "df.to_sql(\"dados_gerais\", engine, if_exists=\"append\", index=False, dtype=dtype_mapping)\n",
    "\n"
   ]
  },
  {
   "cell_type": "markdown",
   "metadata": {},
   "source": [
    "#### Agora com os dados inseridos na tabela do postgres, o resto do projeto será feito diretamente no Query tool do postgres, sendo o notebook usado apenas para a documentação e apresentação"
   ]
  },
  {
   "cell_type": "markdown",
   "metadata": {},
   "source": [
    "# Esquema do DW\n",
    "\n",
    "![Esquema do Data Warehouse](./Fotos/esquemaDW.png)"
   ]
  },
  {
   "cell_type": "markdown",
   "metadata": {},
   "source": [
    "## Dimensão Tempo"
   ]
  },
  {
   "cell_type": "markdown",
   "metadata": {},
   "source": [
    "#### Criação da dimensão tempo"
   ]
  },
  {
   "cell_type": "code",
   "execution_count": null,
   "metadata": {
    "vscode": {
     "languageId": "sql"
    }
   },
   "outputs": [],
   "source": [
    "CREATE TABLE dimensao_tempo (\n",
    "    id_tempo SERIAL PRIMARY KEY,\n",
    "    dia INT,\n",
    "    mes INT,\n",
    "    Ano INT,\n",
    "    data_completa TEXT,\n",
    "    dia_da_semana INT,\n",
    "    dia_da_semana_extenso TEXT,\n",
    "    semana_do_ano INT,\n",
    "    quarter TEXT\n",
    ");"
   ]
  },
  {
   "cell_type": "markdown",
   "metadata": {},
   "source": [
    "#### Povoando a dimensao tempo"
   ]
  },
  {
   "cell_type": "code",
   "execution_count": null,
   "metadata": {
    "vscode": {
     "languageId": "sql"
    }
   },
   "outputs": [],
   "source": [
    "INSERT INTO dimensao_tempo (\n",
    "    dia, \n",
    "    mes, \n",
    "    ano, \n",
    "    data_completa, \n",
    "    dia_da_semana, \n",
    "    dia_da_semana_extenso, \n",
    "    semana_do_ano, \n",
    "    quarter\n",
    ")\n",
    "SELECT \n",
    "    dia, \n",
    "    mes, \n",
    "    ano, \n",
    "    data_completa, \n",
    "    dia_da_semana, \n",
    "    dia_da_semana_extenso, \n",
    "    semana_do_ano, \n",
    "    quarter\n",
    "FROM dados_gerais\n",
    "GROUP BY \n",
    "    dia, mes, ano, data_completa, \n",
    "    dia_da_semana, dia_da_semana_extenso, \n",
    "    semana_do_ano, quarter;\n"
   ]
  },
  {
   "cell_type": "markdown",
   "metadata": {},
   "source": [
    "## Dimensão Região"
   ]
  },
  {
   "cell_type": "markdown",
   "metadata": {},
   "source": [
    "#### Criando a dimensão Região"
   ]
  },
  {
   "cell_type": "code",
   "execution_count": null,
   "metadata": {
    "vscode": {
     "languageId": "sql"
    }
   },
   "outputs": [],
   "source": [
    "CREATE TABLE dimensao_regiao (\n",
    "\tid_regiao SERIAL PRIMARY KEY,\n",
    "\testado TEXT,\n",
    "\tcidade TEXT,\n",
    "\tregiao TEXT\n",
    ")"
   ]
  },
  {
   "cell_type": "markdown",
   "metadata": {},
   "source": [
    "### Povoando a dimensão região"
   ]
  },
  {
   "cell_type": "code",
   "execution_count": null,
   "metadata": {
    "vscode": {
     "languageId": "sql"
    }
   },
   "outputs": [],
   "source": [
    "INSERT INTO dimensao_regiao (estado, cidade, regiao)\n",
    "SELECT estado, cidade, regiao \n",
    "FROM dados_gerais\n",
    "GROUP BY estado, cidade, regiao;"
   ]
  },
  {
   "cell_type": "markdown",
   "metadata": {},
   "source": [
    "## Dimensao Item"
   ]
  },
  {
   "cell_type": "markdown",
   "metadata": {},
   "source": [
    "### Criando a dimensão"
   ]
  },
  {
   "cell_type": "code",
   "execution_count": null,
   "metadata": {
    "vscode": {
     "languageId": "sql"
    }
   },
   "outputs": [],
   "source": [
    "CREATE TABLE dimensao_item (\n",
    "\tid_item SERIAL PRIMARY KEY,\n",
    "\titem TEXT\n",
    ")"
   ]
  },
  {
   "cell_type": "markdown",
   "metadata": {},
   "source": [
    "### Povoando a dimensão item"
   ]
  },
  {
   "cell_type": "code",
   "execution_count": null,
   "metadata": {
    "vscode": {
     "languageId": "sql"
    }
   },
   "outputs": [],
   "source": [
    "INSERT INTO dimensao_item (item)\n",
    "SELECT DISTINCT item\n",
    "FROM (\n",
    "    SELECT unnest(itens_disponiveis) AS item\n",
    "    FROM dados_gerais\n",
    "    UNION\n",
    "    SELECT unnest(itens_indisponiveis) AS item\n",
    "    FROM dados_gerais\n",
    ") AS todos_itens;\n"
   ]
  },
  {
   "cell_type": "markdown",
   "metadata": {},
   "source": [
    "## Dimensão Imóvel"
   ]
  },
  {
   "cell_type": "markdown",
   "metadata": {},
   "source": [
    "### Criando a dimensão"
   ]
  },
  {
   "cell_type": "code",
   "execution_count": null,
   "metadata": {
    "vscode": {
     "languageId": "sql"
    }
   },
   "outputs": [],
   "source": [
    "CREATE TABLE dimensao_imovel (\n",
    "\tid_imovel SERIAL PRIMARY KEY,\n",
    "\ttipo TEXT,\n",
    "\titens_disponiveis INT[] NOT NULL,\n",
    "\titens_indisponiveis INT[] NOT NULL\n",
    ")"
   ]
  },
  {
   "cell_type": "markdown",
   "metadata": {},
   "source": [
    "### Populando a dimensão"
   ]
  },
  {
   "cell_type": "code",
   "execution_count": null,
   "metadata": {
    "vscode": {
     "languageId": "sql"
    }
   },
   "outputs": [],
   "source": [
    "INSERT INTO dimensao_imovel (tipo, itens_disponiveis, itens_indisponiveis)\n",
    "SELECT DISTINCT\n",
    "    dg.tipo,\n",
    "    ARRAY(\n",
    "        SELECT id_item \n",
    "        FROM dimensao_item \n",
    "        WHERE item = ANY(dg.itens_disponiveis)\n",
    "    ),\n",
    "    ARRAY(\n",
    "        SELECT id_item \n",
    "        FROM dimensao_item \n",
    "        WHERE id_item NOT IN (\n",
    "            SELECT id_item \n",
    "            FROM dimensao_item \n",
    "            WHERE item = ANY(dg.itens_disponiveis)\n",
    "        )\n",
    "    )\n",
    "FROM dados_gerais dg;"
   ]
  },
  {
   "cell_type": "markdown",
   "metadata": {},
   "source": [
    "## Dimensão característica\n",
    "#### Criada pois havia muitas amostras que compartilhavam todas as caracterśticas, com exceção do preço"
   ]
  },
  {
   "cell_type": "markdown",
   "metadata": {},
   "source": [
    "### Criando a dimensao"
   ]
  },
  {
   "cell_type": "code",
   "execution_count": null,
   "metadata": {
    "vscode": {
     "languageId": "sql"
    }
   },
   "outputs": [],
   "source": [
    "CREATE TABLE dimensao_caracteristicas (\n",
    "\tid_caracteristicas SERIAL PRIMARY KEY,\n",
    "\ttamanho float,\n",
    "\tnum_quartos int,\n",
    "\tnum_banheiros int, \n",
    "\tnum_vagas int\n",
    ")"
   ]
  },
  {
   "cell_type": "markdown",
   "metadata": {},
   "source": [
    "### Populando a dimensao"
   ]
  },
  {
   "cell_type": "code",
   "execution_count": null,
   "metadata": {
    "vscode": {
     "languageId": "sql"
    }
   },
   "outputs": [],
   "source": [
    "INSERT INTO dimensao_caracteristicas (tamanho, num_quartos, num_banheiros, num_vagas)\n",
    "SELECT DISTINCT\n",
    "    dg.tamanho::FLOAT,\n",
    "    dg.num_quartos,\n",
    "    dg.num_banheiros,\n",
    "    dg.num_vagas\n",
    "FROM dados_gerais dg;\n"
   ]
  },
  {
   "cell_type": "markdown",
   "metadata": {},
   "source": [
    "## Tabela Fato"
   ]
  },
  {
   "cell_type": "markdown",
   "metadata": {},
   "source": [
    "### Criando a tabela"
   ]
  },
  {
   "cell_type": "code",
   "execution_count": null,
   "metadata": {
    "vscode": {
     "languageId": "sql"
    }
   },
   "outputs": [],
   "source": [
    "CREATE TABLE fato_vendas (\n",
    "    id_regiao INT NOT NULL,\n",
    "    id_imovel INT NOT NULL,\n",
    "    id_tempo INT NOT NULL,\n",
    "    id_caracteristicas INT NOT NULL,\n",
    "    preco NUMERIC(10,2),  -- Usando um tipo adequado para valores monetários\n",
    "\n",
    "    -- Definição de chaves estrangeiras\n",
    "    FOREIGN KEY (id_regiao) REFERENCES dimensao_regiao(id_regiao),\n",
    "    FOREIGN KEY (id_tempo) REFERENCES dimensao_tempo(id_tempo),\n",
    "    FOREIGN KEY (id_imovel) REFERENCES dimensao_imovel(id_imovel),\n",
    "    FOREIGN KEY (id_caracteristicas) REFERENCES dimensao_caracteristicas(id_caracteristicas),\n",
    "\n",
    "    -- Chave primária composta para garantir unicidade\n",
    "    PRIMARY KEY (id_regiao, id_imovel, id_tempo, id_caracteristicas)\n",
    ");\n"
   ]
  },
  {
   "cell_type": "markdown",
   "metadata": {},
   "source": [
    "### Populando a tabela fato"
   ]
  },
  {
   "cell_type": "code",
   "execution_count": null,
   "metadata": {
    "vscode": {
     "languageId": "sql"
    }
   },
   "outputs": [],
   "source": [
    "INSERT INTO fato_vendas (\n",
    "    id_regiao,\n",
    "    id_imovel,\n",
    "    id_tempo,\n",
    "    id_caracteristicas,\n",
    "    preco\n",
    ")\n",
    "SELECT \n",
    "    dr.id_regiao,\n",
    "    di.id_imovel,\n",
    "    dt.id_tempo,\n",
    "    dc.id_caracteristicas,\n",
    "    dg.preco::NUMERIC(10,2)\n",
    "FROM \n",
    "    dados_gerais dg\n",
    "INNER JOIN dimensao_regiao dr \n",
    "    ON dg.estado = dr.estado \n",
    "    AND dg.cidade = dr.cidade \n",
    "    AND dg.regiao = dr.regiao\n",
    "INNER JOIN dimensao_tempo dt \n",
    "    ON dg.data_completa = dt.data_completa\n",
    "INNER JOIN dimensao_imovel di \n",
    "    ON dg.tipo = di.tipo\n",
    "    AND (\n",
    "         SELECT ARRAY(\n",
    "             SELECT id_item \n",
    "             FROM dimensao_item \n",
    "             WHERE item = ANY(dg.itens_disponiveis)\n",
    "             ORDER BY id_item\n",
    "         )\n",
    "    ) = (\n",
    "         SELECT ARRAY(\n",
    "             SELECT unnest(di.itens_disponiveis)\n",
    "             ORDER BY 1\n",
    "         )\n",
    "    )\n",
    "INNER JOIN dimensao_caracteristicas dc\n",
    "    ON dg.tamanho::FLOAT = dc.tamanho\n",
    "    AND dg.num_quartos = dc.num_quartos\n",
    "    AND dg.num_banheiros = dc.num_banheiros\n",
    "    AND dg.num_vagas = dc.num_vagas;\n"
   ]
  }
 ],
 "metadata": {
  "kernelspec": {
   "display_name": "base",
   "language": "python",
   "name": "python3"
  },
  "language_info": {
   "codemirror_mode": {
    "name": "ipython",
    "version": 3
   },
   "file_extension": ".py",
   "mimetype": "text/x-python",
   "name": "python",
   "nbconvert_exporter": "python",
   "pygments_lexer": "ipython3",
   "version": "3.9.12"
  }
 },
 "nbformat": 4,
 "nbformat_minor": 2
}
